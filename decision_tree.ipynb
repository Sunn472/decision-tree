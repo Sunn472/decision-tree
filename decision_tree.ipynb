{
  "nbformat": 4,
  "nbformat_minor": 0,
  "metadata": {
    "colab": {
      "provenance": []
    },
    "kernelspec": {
      "name": "python3",
      "display_name": "Python 3"
    },
    "language_info": {
      "name": "python"
    }
  },
  "cells": [
    {
      "cell_type": "code",
      "execution_count": null,
      "metadata": {
        "colab": {
          "base_uri": "https://localhost:8080/"
        },
        "id": "XgiWIzm9z8Vt",
        "outputId": "a12afb53-fac1-47ce-9fd2-889ece22de48"
      },
      "outputs": [
        {
          "output_type": "stream",
          "name": "stdout",
          "text": [
            "Accuracy: 1.0\n"
          ]
        }
      ],
      "source": [
        "'''\n",
        "Q16. Write a Python program to train a Decision Tree Classifier on the Iris\n",
        "dataset and print model accuracy\n",
        "'''\n",
        "from sklearn.datasets import load_iris\n",
        "from sklearn.model_selection import train_test_split\n",
        "from sklearn.tree import DecisionTreeClassifier\n",
        "from sklearn.metrics import accuracy_score\n",
        "\n",
        "# Load data\n",
        "iris = load_iris()\n",
        "X, y = iris.data, iris.target\n",
        "\n",
        "# Split data\n",
        "X_train, X_test, y_train, y_test = train_test_split(X, y, random_state=42)\n",
        "\n",
        "# Train model\n",
        "clf = DecisionTreeClassifier()\n",
        "clf.fit(X_train, y_train)\n",
        "\n",
        "# Predict and evaluate\n",
        "y_pred = clf.predict(X_test)\n",
        "print(\"Accuracy:\", accuracy_score(y_test, y_pred))\n"
      ]
    },
    {
      "cell_type": "code",
      "source": [
        "'''\n",
        "Q17. Write a Python program to train a Decision Tree Classifier using Gini\n",
        "Impurity as the criterion and print the feature importances\n",
        "'''\n",
        "clf_gini = DecisionTreeClassifier(criterion='gini')\n",
        "clf_gini.fit(X_train, y_train)\n",
        "\n",
        "print(\"Feature importances (Gini):\", clf_gini.feature_importances_)\n"
      ],
      "metadata": {
        "colab": {
          "base_uri": "https://localhost:8080/"
        },
        "id": "kPBLw9wu09P1",
        "outputId": "aae0fb34-e212-4cab-9d30-2161c47d8645"
      },
      "execution_count": null,
      "outputs": [
        {
          "output_type": "stream",
          "name": "stdout",
          "text": [
            "Feature importances (Gini): [0.01787567 0.         0.89974604 0.08237829]\n"
          ]
        }
      ]
    },
    {
      "cell_type": "code",
      "source": [
        "'''\n",
        "Q18. Write a Python program to train a Decision Tree Classifier using Entropy as\n",
        "the splitting criterion and print the model accuracy\n",
        "'''\n",
        "clf_entropy = DecisionTreeClassifier(criterion='entropy')\n",
        "clf_entropy.fit(X_train, y_train)\n",
        "\n",
        "y_pred_entropy = clf_entropy.predict(X_test)\n",
        "print(\"Accuracy (Entropy):\", accuracy_score(y_test, y_pred_entropy))\n"
      ],
      "metadata": {
        "colab": {
          "base_uri": "https://localhost:8080/"
        },
        "id": "G0JR-93u1RSH",
        "outputId": "5f9589be-49c2-40da-cb50-c71b25cdce89"
      },
      "execution_count": null,
      "outputs": [
        {
          "output_type": "stream",
          "name": "stdout",
          "text": [
            "Accuracy (Entropy): 0.9736842105263158\n"
          ]
        }
      ]
    },
    {
      "cell_type": "code",
      "source": [
        "'''\n",
        "Q19. Write a Python program to train a Decision Tree Regressor on a housing\n",
        "dataset and evaluate using Mean Squared Error (MSE)\n",
        "'''\n",
        "from sklearn.datasets import fetch_california_housing\n",
        "from sklearn.tree import DecisionTreeRegressor\n",
        "from sklearn.metrics import mean_squared_error\n",
        "\n",
        "# Load housing data\n",
        "housing = fetch_california_housing()\n",
        "X_h, y_h = housing.data, housing.target\n",
        "\n",
        "X_train_h, X_test_h, y_train_h, y_test_h = train_test_split(X_h, y_h, random_state=42)\n",
        "\n",
        "# Train regressor\n",
        "reg = DecisionTreeRegressor()\n",
        "reg.fit(X_train_h, y_train_h)\n",
        "\n",
        "# Predict and evaluate\n",
        "y_pred_h = reg.predict(X_test_h)\n",
        "print(\"Mean Squared Error:\", mean_squared_error(y_test_h, y_pred_h))\n"
      ],
      "metadata": {
        "colab": {
          "base_uri": "https://localhost:8080/"
        },
        "id": "W2-vxdf61o0s",
        "outputId": "b559ec70-8c4b-47a0-8295-1402d46876b5"
      },
      "execution_count": null,
      "outputs": [
        {
          "output_type": "stream",
          "name": "stdout",
          "text": [
            "Mean Squared Error: 0.5208122667990117\n"
          ]
        }
      ]
    },
    {
      "cell_type": "code",
      "source": [
        "'''\n",
        "Q20. Write a Python program to train a Decision Tree Classifier and visualize\n",
        "the tree using graphviz\n",
        "'''\n",
        "from sklearn.tree import export_graphviz\n",
        "import graphviz\n",
        "\n",
        "clf = DecisionTreeClassifier()\n",
        "clf.fit(X_train, y_train)\n",
        "\n",
        "dot_data = export_graphviz(clf, out_file=None,\n",
        "                           feature_names=iris.feature_names,\n",
        "                           class_names=iris.target_names,\n",
        "                           filled=True, rounded=True,\n",
        "                           special_characters=True)\n",
        "graph = graphviz.Source(dot_data)\n",
        "graph.render(\"iris_decision_tree\")  # Saves as PDF\n",
        "graph.view()  # Opens the visualization\n"
      ],
      "metadata": {
        "colab": {
          "base_uri": "https://localhost:8080/",
          "height": 35
        },
        "id": "qzXBMaDT1329",
        "outputId": "3507fea4-7bf2-47be-ce96-1c571d911758"
      },
      "execution_count": null,
      "outputs": [
        {
          "output_type": "execute_result",
          "data": {
            "text/plain": [
              "'iris_decision_tree.pdf'"
            ],
            "application/vnd.google.colaboratory.intrinsic+json": {
              "type": "string"
            }
          },
          "metadata": {},
          "execution_count": 7
        }
      ]
    },
    {
      "cell_type": "code",
      "source": [
        "'''\n",
        "Q21. Write a Python program to train a Decision Tree Classifier with a maximum\n",
        "depth of 3 and compare its accuracy with a fully grown tree\n",
        "'''\n",
        "clf_depth3 = DecisionTreeClassifier(max_depth=3)\n",
        "clf_depth3.fit(X_train, y_train)\n",
        "acc_depth3 = accuracy_score(y_test, clf_depth3.predict(X_test))\n",
        "\n",
        "clf_full = DecisionTreeClassifier()\n",
        "clf_full.fit(X_train, y_train)\n",
        "acc_full = accuracy_score(y_test, clf_full.predict(X_test))\n",
        "\n",
        "print(f\"Accuracy with max_depth=3: {acc_depth3}\")\n",
        "print(f\"Accuracy with fully grown tree: {acc_full}\")\n"
      ],
      "metadata": {
        "colab": {
          "base_uri": "https://localhost:8080/"
        },
        "id": "T2hA9-i32FX9",
        "outputId": "4829e323-e524-48a3-b331-cb6221063e61"
      },
      "execution_count": null,
      "outputs": [
        {
          "output_type": "stream",
          "name": "stdout",
          "text": [
            "Accuracy with max_depth=3: 1.0\n",
            "Accuracy with fully grown tree: 1.0\n"
          ]
        }
      ]
    },
    {
      "cell_type": "code",
      "source": [
        "'''\n",
        "Q22. Write a Python program to train a Decision Tree Classifier using\n",
        "min_samples_split=5 and compare its accuracy with a default tree\n",
        "'''\n",
        "clf_min_split = DecisionTreeClassifier(min_samples_split=5)\n",
        "clf_min_split.fit(X_train, y_train)\n",
        "acc_min_split = accuracy_score(y_test, clf_min_split.predict(X_test))\n",
        "\n",
        "clf_default = DecisionTreeClassifier()\n",
        "clf_default.fit(X_train, y_train)\n",
        "acc_default = accuracy_score(y_test, clf_default.predict(X_test))\n",
        "\n",
        "print(f\"Accuracy with min_samples_split=5: {acc_min_split}\")\n",
        "print(f\"Accuracy with default min_samples_split: {acc_default}\")\n"
      ],
      "metadata": {
        "colab": {
          "base_uri": "https://localhost:8080/"
        },
        "id": "A97tRZka2lv9",
        "outputId": "8b91faba-976a-47e5-b119-6be27b59b5ce"
      },
      "execution_count": null,
      "outputs": [
        {
          "output_type": "stream",
          "name": "stdout",
          "text": [
            "Accuracy with min_samples_split=5: 1.0\n",
            "Accuracy with default min_samples_split: 1.0\n"
          ]
        }
      ]
    },
    {
      "cell_type": "code",
      "source": [
        "'''\n",
        "Q23. Write a Python program to apply feature scaling before training a Decision\n",
        "Tree Classifier and compare its accuracy with unscaled data\n",
        "'''\n",
        "from sklearn.preprocessing import StandardScaler\n",
        "\n",
        "scaler = StandardScaler()\n",
        "X_train_scaled = scaler.fit_transform(X_train)\n",
        "X_test_scaled = scaler.transform(X_test)\n",
        "\n",
        "clf_scaled = DecisionTreeClassifier()\n",
        "clf_scaled.fit(X_train_scaled, y_train)\n",
        "acc_scaled = accuracy_score(y_test, clf_scaled.predict(X_test_scaled))\n",
        "\n",
        "clf_unscaled = DecisionTreeClassifier()\n",
        "clf_unscaled.fit(X_train, y_train)\n",
        "acc_unscaled = accuracy_score(y_test, clf_unscaled.predict(X_test))\n",
        "\n",
        "print(f\"Accuracy with scaled data: {acc_scaled}\")\n",
        "print(f\"Accuracy with unscaled data: {acc_unscaled}\")\n"
      ],
      "metadata": {
        "colab": {
          "base_uri": "https://localhost:8080/"
        },
        "id": "e2n-LGhE20RE",
        "outputId": "83313bc2-1aec-4acb-9562-50748462f334"
      },
      "execution_count": null,
      "outputs": [
        {
          "output_type": "stream",
          "name": "stdout",
          "text": [
            "Accuracy with scaled data: 1.0\n",
            "Accuracy with unscaled data: 1.0\n"
          ]
        }
      ]
    },
    {
      "cell_type": "code",
      "source": [
        "'''\n",
        "Q24. Write a Python program to train a Decision Tree Classifier using\n",
        "One-vs-Rest (OvR) strategy for multiclass classification\n",
        "'''\n",
        "from sklearn.multiclass import OneVsRestClassifier\n",
        "\n",
        "ovr_clf = OneVsRestClassifier(DecisionTreeClassifier())\n",
        "ovr_clf.fit(X_train, y_train)\n",
        "acc_ovr = accuracy_score(y_test, ovr_clf.predict(X_test))\n",
        "\n",
        "print(\"Accuracy (One-vs-Rest):\", acc_ovr)\n"
      ],
      "metadata": {
        "colab": {
          "base_uri": "https://localhost:8080/"
        },
        "id": "lomucjJT3Fpx",
        "outputId": "4d76a49d-56e9-4f57-e173-29fcbff27334"
      },
      "execution_count": null,
      "outputs": [
        {
          "output_type": "stream",
          "name": "stdout",
          "text": [
            "Accuracy (One-vs-Rest): 1.0\n"
          ]
        }
      ]
    },
    {
      "cell_type": "code",
      "source": [
        "'''\n",
        "Q25. Write a Python program to train a Decision Tree Classifier and display the\n",
        "feature importance scores\n",
        "'''\n",
        "clf = DecisionTreeClassifier()\n",
        "clf.fit(X_train, y_train)\n",
        "\n",
        "importances = clf.feature_importances_\n",
        "for feature, importance in zip(iris.feature_names, importances):\n",
        "    print(f\"{feature}: {importance:.4f}\")\n"
      ],
      "metadata": {
        "colab": {
          "base_uri": "https://localhost:8080/"
        },
        "id": "Ci2qQYx63URc",
        "outputId": "90eb6e33-e9e9-4830-fbf2-5324f4e03932"
      },
      "execution_count": null,
      "outputs": [
        {
          "output_type": "stream",
          "name": "stdout",
          "text": [
            "sepal length (cm): 0.0358\n",
            "sepal width (cm): 0.0000\n",
            "petal length (cm): 0.3979\n",
            "petal width (cm): 0.5663\n"
          ]
        }
      ]
    },
    {
      "cell_type": "code",
      "source": [
        "'''\n",
        "Q26. Write a Python program to train a Decision Tree Regressor with max_depth=5\n",
        "and compare its performance with an unrestricted tree\n",
        "'''\n",
        "\n",
        "# Load data\n",
        "X, y = fetch_california_housing(return_X_y=True)\n",
        "X_train, X_test, y_train, y_test = train_test_split(X, y, random_state=42)\n",
        "\n",
        "# Restricted tree\n",
        "reg5 = DecisionTreeRegressor(max_depth=5, random_state=42)\n",
        "reg5.fit(X_train, y_train)\n",
        "y_pred5 = reg5.predict(X_test)\n",
        "mse5 = mean_squared_error(y_test, y_pred5)\n",
        "\n",
        "# Unrestricted tree\n",
        "reg_full = DecisionTreeRegressor(random_state=42)\n",
        "reg_full.fit(X_train, y_train)\n",
        "y_pred_full = reg_full.predict(X_test)\n",
        "mse_full = mean_squared_error(y_test, y_pred_full)\n",
        "\n",
        "print(f\"MSE with max_depth=5: {mse5:.4f}\")\n",
        "print(f\"MSE with unrestricted tree: {mse_full:.4f}\")\n"
      ],
      "metadata": {
        "id": "h0Yk8Et83gJS",
        "colab": {
          "base_uri": "https://localhost:8080/"
        },
        "outputId": "5d697ae4-af8e-4553-c6d2-e80630ef5d4f"
      },
      "execution_count": null,
      "outputs": [
        {
          "output_type": "stream",
          "name": "stdout",
          "text": [
            "MSE with max_depth=5: 0.5268\n",
            "MSE with unrestricted tree: 0.5285\n"
          ]
        }
      ]
    },
    {
      "cell_type": "code",
      "source": [
        "'''\n",
        "Q27. Write a Python program to train a Decision Tree Classifier, apply Cost\n",
        "Complexity Pruning (CCP), and visualize its effect on accuracy\n",
        "'''\n",
        "import matplotlib.pyplot as plt\n",
        "from sklearn.datasets import load_iris\n",
        "from sklearn.tree import DecisionTreeClassifier\n",
        "from sklearn.model_selection import train_test_split\n",
        "\n",
        "X, y = load_iris(return_X_y=True)\n",
        "X_train, X_test, y_train, y_test = train_test_split(X, y, random_state=42)\n",
        "\n",
        "clf = DecisionTreeClassifier(random_state=42)\n",
        "path = clf.cost_complexity_pruning_path(X_train, y_train)\n",
        "ccp_alphas = path.ccp_alphas\n",
        "\n",
        "accuracies = []\n",
        "for ccp_alpha in ccp_alphas:\n",
        "    clf = DecisionTreeClassifier(random_state=42, ccp_alpha=ccp_alpha)\n",
        "    clf.fit(X_train, y_train)\n",
        "    acc = clf.score(X_test, y_test)\n",
        "    accuracies.append(acc)\n",
        "\n",
        "plt.figure(figsize=(8,4))\n",
        "plt.plot(ccp_alphas, accuracies, marker='o')\n",
        "plt.xlabel(\"ccp_alpha\")\n",
        "plt.ylabel(\"Accuracy\")\n",
        "plt.title(\"Effect of Cost Complexity Pruning on Accuracy\")\n",
        "plt.show()\n"
      ],
      "metadata": {
        "colab": {
          "base_uri": "https://localhost:8080/",
          "height": 410
        },
        "id": "J_aA9Xsn4CRO",
        "outputId": "7157869b-478b-4173-d172-7348dda03bfb"
      },
      "execution_count": null,
      "outputs": [
        {
          "output_type": "display_data",
          "data": {
            "text/plain": [
              "<Figure size 800x400 with 1 Axes>"
            ],
            "image/png": "[encoded data removed]"
          },
          "metadata": {}
        }
      ]
    },
    {
      "cell_type": "code",
      "source": [
        "'''\n",
        "Q28. Write a Python program to train a Decision Tree Classifier and evaluate its\n",
        "performance using Precision, Recall, and F1-Score\n",
        "'''\n",
        "from sklearn.metrics import classification_report\n",
        "\n",
        "X, y = load_iris(return_X_y=True)\n",
        "X_train, X_test, y_train, y_test = train_test_split(X, y, random_state=42)\n",
        "\n",
        "clf = DecisionTreeClassifier(random_state=42)\n",
        "clf.fit(X_train, y_train)\n",
        "y_pred = clf.predict(X_test)\n",
        "\n",
        "print(classification_report(y_test, y_pred, target_names=load_iris().target_names))\n"
      ],
      "metadata": {
        "colab": {
          "base_uri": "https://localhost:8080/"
        },
        "id": "jBfQUJul4Wkp",
        "outputId": "c3caabec-e37c-4022-a2b4-fde60f61804a"
      },
      "execution_count": null,
      "outputs": [
        {
          "output_type": "stream",
          "name": "stdout",
          "text": [
            "              precision    recall  f1-score   support\n",
            "\n",
            "      setosa       1.00      1.00      1.00        15\n",
            "  versicolor       1.00      1.00      1.00        11\n",
            "   virginica       1.00      1.00      1.00        12\n",
            "\n",
            "    accuracy                           1.00        38\n",
            "   macro avg       1.00      1.00      1.00        38\n",
            "weighted avg       1.00      1.00      1.00        38\n",
            "\n"
          ]
        }
      ]
    },
    {
      "cell_type": "code",
      "source": [
        "'''\n",
        "Q29. Write a Python program to train a Decision Tree Classifier and visualize\n",
        "the confusion matrix using seaborn\n",
        "'''\n",
        "import seaborn as sns\n",
        "from sklearn.metrics import confusion_matrix\n",
        "\n",
        "X, y = load_iris(return_X_y=True)\n",
        "X_train, X_test, y_train, y_test = train_test_split(X, y, random_state=42)\n",
        "\n",
        "clf = DecisionTreeClassifier(random_state=42)\n",
        "clf.fit(X_train, y_train)\n",
        "y_pred = clf.predict(X_test)\n",
        "\n",
        "cm = confusion_matrix(y_test, y_pred)\n",
        "plt.figure(figsize=(6,4))\n",
        "sns.heatmap(cm, annot=True, cmap='Blues', fmt='d',\n",
        "            xticklabels=load_iris().target_names,\n",
        "            yticklabels=load_iris().target_names)\n",
        "plt.xlabel('Predicted')\n",
        "plt.ylabel('Actual')\n",
        "plt.title('Confusion Matrix')\n",
        "plt.show()\n"
      ],
      "metadata": {
        "colab": {
          "base_uri": "https://localhost:8080/",
          "height": 410
        },
        "id": "6gZqni584jT8",
        "outputId": "6e5cfd2e-6e9f-4edf-a11d-98293065b4df"
      },
      "execution_count": null,
      "outputs": [
        {
          "output_type": "display_data",
          "data": {
            "text/plain": [
              "<Figure size 600x400 with 2 Axes>"
            ],
            "image/png": "[encoded data removed]"
          },
          "metadata": {}
        }
      ]
    },
    {
      "cell_type": "code",
      "source": [
        "'''\n",
        "Q30. Write a Python program to train a Decision Tree Classifier and use\n",
        "GridSearchCV to find the optimal values for max_depth and min_samples_split.\n",
        "'''\n",
        "from sklearn.model_selection import GridSearchCV\n",
        "\n",
        "X, y = load_iris(return_X_y=True)\n",
        "X_train, X_test, y_train, y_test = train_test_split(X, y, random_state=42)\n",
        "\n",
        "param_grid = {\n",
        "    'max_depth': [2, 3, 4, 5, None],\n",
        "    'min_samples_split': [2, 4, 6, 8, 10]\n",
        "}\n",
        "\n",
        "clf = DecisionTreeClassifier(random_state=42)\n",
        "grid = GridSearchCV(clf, param_grid, cv=5)\n",
        "grid.fit(X_train, y_train)\n",
        "\n",
        "print(\"Best parameters:\", grid.best_params_)\n",
        "print(\"Best cross-validated score:\", grid.best_score_)\n"
      ],
      "metadata": {
        "colab": {
          "base_uri": "https://localhost:8080/"
        },
        "id": "pjWfTWL04t8o",
        "outputId": "fb80620f-40e2-4915-cc90-dd4a5125efc8"
      },
      "execution_count": null,
      "outputs": [
        {
          "output_type": "stream",
          "name": "stdout",
          "text": [
            "Best parameters: {'max_depth': 4, 'min_samples_split': 6}\n",
            "Best cross-validated score: 0.9371541501976285\n"
          ]
        }
      ]
    },
    {
      "cell_type": "code",
      "source": [],
      "metadata": {
        "id": "M8OulXkd45k2"
      },
      "execution_count": null,
      "outputs": []
    }
  ]
}